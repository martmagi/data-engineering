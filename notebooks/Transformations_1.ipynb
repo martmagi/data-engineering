{
 "cells": [
  {
   "cell_type": "code",
   "execution_count": 74,
   "metadata": {
    "collapsed": true,
    "pycharm": {
     "name": "#%%\n"
    }
   },
   "outputs": [
    {
     "name": "stdout",
     "output_type": "stream",
     "text": [
      "Requirement already satisfied: pdpipe in c:\\users\\rasmusbo\\anaconda3\\lib\\site-packages (0.0.71)\n",
      "Requirement already satisfied: skutil>=0.0.15 in c:\\users\\rasmusbo\\anaconda3\\lib\\site-packages (from pdpipe) (0.0.18)\n",
      "Requirement already satisfied: pandas>=0.18.0 in c:\\users\\rasmusbo\\anaconda3\\lib\\site-packages (from pdpipe) (1.2.4)\n",
      "Requirement already satisfied: sortedcontainers in c:\\users\\rasmusbo\\anaconda3\\lib\\site-packages (from pdpipe) (2.3.0)\n",
      "Requirement already satisfied: tqdm in c:\\users\\rasmusbo\\anaconda3\\lib\\site-packages (from pdpipe) (4.59.0)\n",
      "Requirement already satisfied: strct in c:\\users\\rasmusbo\\anaconda3\\lib\\site-packages (from pdpipe) (0.0.32)\n",
      "Requirement already satisfied: python-dateutil>=2.7.3 in c:\\users\\rasmusbo\\anaconda3\\lib\\site-packages (from pandas>=0.18.0->pdpipe) (2.8.1)\n",
      "Requirement already satisfied: pytz>=2017.3 in c:\\users\\rasmusbo\\anaconda3\\lib\\site-packages (from pandas>=0.18.0->pdpipe) (2021.1)\n",
      "Requirement already satisfied: numpy>=1.16.5 in c:\\users\\rasmusbo\\anaconda3\\lib\\site-packages (from pandas>=0.18.0->pdpipe) (1.20.1)\n",
      "Requirement already satisfied: six>=1.5 in c:\\users\\rasmusbo\\anaconda3\\lib\\site-packages (from python-dateutil>=2.7.3->pandas>=0.18.0->pdpipe) (1.15.0)\n",
      "Requirement already satisfied: decore in c:\\users\\rasmusbo\\anaconda3\\lib\\site-packages (from skutil>=0.0.15->pdpipe) (0.0.1)\n"
     ]
    }
   ],
   "source": [
    "!pip install pdpipe\n",
    "import numpy as np\n",
    "import pandas as pd\n",
    "import pdpipe as pdp\n",
    "import json"
   ]
  },
  {
   "cell_type": "code",
   "execution_count": 96,
   "outputs": [],
   "source": [
    "df=pd.read_json('augmented_1.json')\n",
    "df.columns=[df.values[0:1:][0][i][0] for i in range(len(df.values[0:1:][0]))]\n",
    "df=df.drop(index=0)"
   ],
   "metadata": {
    "collapsed": false,
    "pycharm": {
     "name": "#%%\n"
    }
   }
  },
  {
   "cell_type": "code",
   "execution_count": 97,
   "outputs": [],
   "source": [
    "df['added_datetime']=pd.to_datetime(df['added'], unit='s').dt.date\n",
    "df['added_weekday']=pd.to_datetime(df['added'], unit='s').dt.day_name()\n",
    "df['added_month']=pd.to_datetime(df['added'], unit='s').dt.month_name()\n",
    "df['added_year']=pd.to_datetime(df['added'], unit='s').dt.year\n",
    "df['how_long_till_upload']=df.added_year-df.year"
   ],
   "metadata": {
    "collapsed": false,
    "pycharm": {
     "name": "#%%\n"
    }
   }
  },
  {
   "cell_type": "code",
   "execution_count": 111,
   "outputs": [],
   "source": [
    "df=df.drop(columns=['added_datetime'], axis=1)"
   ],
   "metadata": {
    "collapsed": false,
    "pycharm": {
     "name": "#%%\n"
    }
   }
  },
  {
   "cell_type": "code",
   "execution_count": 114,
   "outputs": [],
   "source": [
    "a=df.columns.values.tolist()\n",
    "b=df.values.tolist()\n",
    "b.insert(0,a)\n",
    "with open('transformed_1.json', 'w', encoding='utf-8') as f:\n",
    "    json.dump(b, f, ensure_ascii=True)"
   ],
   "metadata": {
    "collapsed": false,
    "pycharm": {
     "name": "#%%\n"
    }
   }
  }
 ],
 "metadata": {
  "kernelspec": {
   "display_name": "Python 3",
   "language": "python",
   "name": "python3"
  },
  "language_info": {
   "codemirror_mode": {
    "name": "ipython",
    "version": 2
   },
   "file_extension": ".py",
   "mimetype": "text/x-python",
   "name": "python",
   "nbconvert_exporter": "python",
   "pygments_lexer": "ipython2",
   "version": "2.7.6"
  }
 },
 "nbformat": 4,
 "nbformat_minor": 0
}