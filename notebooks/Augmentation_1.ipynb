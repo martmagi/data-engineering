{
 "cells": [
  {
   "cell_type": "code",
   "execution_count": 5,
   "metadata": {
    "collapsed": true,
    "pycharm": {
     "name": "#%%\n"
    }
   },
   "outputs": [
    {
     "name": "stdout",
     "output_type": "stream",
     "text": [
      "Requirement already satisfied: pdpipe in c:\\users\\rasmusbo\\anaconda3\\lib\\site-packages (0.0.71)\n",
      "Requirement already satisfied: sortedcontainers in c:\\users\\rasmusbo\\anaconda3\\lib\\site-packages (from pdpipe) (2.3.0)\n",
      "Requirement already satisfied: pandas>=0.18.0 in c:\\users\\rasmusbo\\anaconda3\\lib\\site-packages (from pdpipe) (1.2.4)\n",
      "Requirement already satisfied: strct in c:\\users\\rasmusbo\\anaconda3\\lib\\site-packages (from pdpipe) (0.0.32)\n",
      "Requirement already satisfied: tqdm in c:\\users\\rasmusbo\\anaconda3\\lib\\site-packages (from pdpipe) (4.59.0)\n",
      "Requirement already satisfied: skutil>=0.0.15 in c:\\users\\rasmusbo\\anaconda3\\lib\\site-packages (from pdpipe) (0.0.18)\n",
      "Requirement already satisfied: python-dateutil>=2.7.3 in c:\\users\\rasmusbo\\anaconda3\\lib\\site-packages (from pandas>=0.18.0->pdpipe) (2.8.1)\n",
      "Requirement already satisfied: pytz>=2017.3 in c:\\users\\rasmusbo\\anaconda3\\lib\\site-packages (from pandas>=0.18.0->pdpipe) (2021.1)\n",
      "Requirement already satisfied: numpy>=1.16.5 in c:\\users\\rasmusbo\\anaconda3\\lib\\site-packages (from pandas>=0.18.0->pdpipe) (1.20.1)\n",
      "Requirement already satisfied: six>=1.5 in c:\\users\\rasmusbo\\anaconda3\\lib\\site-packages (from python-dateutil>=2.7.3->pandas>=0.18.0->pdpipe) (1.15.0)\n",
      "Requirement already satisfied: decore in c:\\users\\rasmusbo\\anaconda3\\lib\\site-packages (from skutil>=0.0.15->pdpipe) (0.0.1)\n"
     ]
    }
   ],
   "source": [
    "!pip install pdpipe\n",
    "import numpy as np\n",
    "import pandas as pd\n",
    "import pdpipe as pdp\n",
    "import json"
   ]
  },
  {
   "cell_type": "code",
   "execution_count": 6,
   "outputs": [],
   "source": [
    "df=pd.read_json('cleaned_1.json')\n",
    "df.columns=list(df.values[0:1:])\n",
    "df=df.drop(index=0)"
   ],
   "metadata": {
    "collapsed": false,
    "pycharm": {
     "name": "#%%\n"
    }
   }
  },
  {
   "cell_type": "code",
   "execution_count": 878,
   "outputs": [],
   "source": [
    "df_vision=pd.read_json('kym_vision.json')\n",
    "df_cols=np.array(df.url.values.tolist()).flatten()\n",
    "vis_cols=df_vision.columns.values\n",
    "remove_list=np.setdiff1d(vis_cols,df_cols)\n",
    "df_vision=pdp.ColDrop(columns =remove_list).apply(df_vision)"
   ],
   "metadata": {
    "collapsed": false,
    "pycharm": {
     "name": "#%%\n"
    }
   }
  },
  {
   "cell_type": "code",
   "execution_count": 879,
   "outputs": [],
   "source": [
    "columns=['google_api_description','adult','spoof','medical','violence','racy' ]\n",
    "for i in columns:\n",
    "    df[i]=np.nan"
   ],
   "metadata": {
    "collapsed": false,
    "pycharm": {
     "name": "#%%\n"
    }
   }
  },
  {
   "cell_type": "code",
   "execution_count": null,
   "outputs": [],
   "source": [
    "for i in df.url.values.flatten():\n",
    "    print(t)\n",
    "    if i in ['https://knowyourmeme.com/memes/dorito-pope', \"https://knowyourmeme.com/memes/subcultures/mameshiba\",\"https://knowyourmeme.com/memes/x-doesnt-change-facial-expressions\", 'https://knowyourmeme.com/memes/liberal-douche-garofalo', 'https://knowyourmeme.com/memes/polybius']:\n",
    "        continue\n",
    "    y=np.where(df.url ==f\"{i}\")[0][0]+1\n",
    "    if df_vision[df.loc[y].url].safeSearchAnnotation==float or type(df_vision[df.loc[y].url].safeSearchAnnotation)==float:\n",
    "        continue\n",
    "    if (df_vision[f\"{i}\"].safeSearchAnnotation or df_vision[f\"{i}\"])==KeyError :\n",
    "        continue\n",
    "    df.at[y, 'adult']=str(df_vision[f\"{i}\"].safeSearchAnnotation['adult'])\n",
    "    df.at[y, 'spoof']=str(df_vision[f\"{i}\"].safeSearchAnnotation['spoof'])\n",
    "    df.at[y, 'medical']=str(df_vision[f\"{i}\"].safeSearchAnnotation['medical'])\n",
    "    df.at[y, 'violence']=str(df_vision[f\"{i}\"].safeSearchAnnotation['violence'])\n",
    "    df.at[y, 'racy']=str(df_vision[f\"{i}\"].safeSearchAnnotation['racy'])"
   ],
   "metadata": {
    "collapsed": false,
    "pycharm": {
     "name": "#%%\n",
     "is_executing": true
    }
   }
  },
  {
   "cell_type": "code",
   "execution_count": null,
   "outputs": [],
   "source": [
    "x=np.arange(len(df), dtype=object)\n",
    "aa=np.full_like(x, np.nan, dtype='object')\n",
    "g_list=[[] for x in aa]\n",
    "g_list[0]=str\n",
    "for i in df.url.values.flatten():\n",
    "    print(t)\n",
    "    if i in ['https://knowyourmeme.com/memes/dorito-pope', \"https://knowyourmeme.com/memes/subcultures/mameshiba\",\"https://knowyourmeme.com/memes/x-doesnt-change-facial-expressions\", 'https://knowyourmeme.com/memes/liberal-douche-garofalo', 'https://knowyourmeme.com/memes/polybius']:\n",
    "        continue\n",
    "    y=np.where(df.url ==f\"{i}\")[0][0]+1\n",
    "    print(y)\n",
    "    if df_vision[df.loc[y].url].labelAnnotations==float or type(df_vision[df.loc[y].url].labelAnnotations)==float:\n",
    "        continue\n",
    "    if (df_vision[f\"{i}\"].labelAnnotations or df_vision[f\"{i}\"])==KeyError:\n",
    "        continue\n",
    "    if len(df_vision[f\"{i}\"].labelAnnotations) >=10:\n",
    "        for j in range(10):\n",
    "            g_list[y].append(df_vision[f\"{i}\"].labelAnnotations[j]['description'])\n",
    "    else:\n",
    "        for j in range(len(df_vision[f\"{i}\"].labelAnnotations)):\n",
    "            g_list[y].append(df_vision[f\"{i}\"].labelAnnotations[j]['description'])"
   ],
   "metadata": {
    "collapsed": false,
    "pycharm": {
     "name": "#%%\n",
     "is_executing": true
    }
   }
  },
  {
   "cell_type": "code",
   "execution_count": 914,
   "outputs": [],
   "source": [
    "df['google_api_description']=g_list\n",
    "df['google_api_description']=df.google_api_description.shift(-1)"
   ],
   "metadata": {
    "collapsed": false,
    "pycharm": {
     "name": "#%%\n"
    }
   }
  },
  {
   "cell_type": "code",
   "execution_count": 4,
   "outputs": [],
   "source": [
    "a=df.columns.values.tolist()\n",
    "b=df.values.tolist()\n",
    "b.insert(0,a)\n",
    "with open('augmented_1.json', 'w', encoding='utf-8') as f:\n",
    "    json.dump(b, f, ensure_ascii=True)"
   ],
   "metadata": {
    "collapsed": false,
    "pycharm": {
     "name": "#%%\n"
    }
   }
  }
 ],
 "metadata": {
  "kernelspec": {
   "display_name": "Python 3",
   "language": "python",
   "name": "python3"
  },
  "language_info": {
   "codemirror_mode": {
    "name": "ipython",
    "version": 2
   },
   "file_extension": ".py",
   "mimetype": "text/x-python",
   "name": "python",
   "nbconvert_exporter": "python",
   "pygments_lexer": "ipython2",
   "version": "2.7.6"
  }
 },
 "nbformat": 4,
 "nbformat_minor": 0
}