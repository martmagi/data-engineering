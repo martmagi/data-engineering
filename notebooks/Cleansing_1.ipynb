{
 "cells": [
  {
   "cell_type": "code",
   "execution_count": 2,
   "metadata": {
    "collapsed": true,
    "pycharm": {
     "name": "#%%\n"
    }
   },
   "outputs": [
    {
     "name": "stdout",
     "output_type": "stream",
     "text": [
      "Requirement already satisfied: pdpipe in c:\\users\\rasmusbo\\anaconda3\\lib\\site-packages (0.0.71)\n",
      "Requirement already satisfied: skutil>=0.0.15 in c:\\users\\rasmusbo\\anaconda3\\lib\\site-packages (from pdpipe) (0.0.18)\n",
      "Requirement already satisfied: sortedcontainers in c:\\users\\rasmusbo\\anaconda3\\lib\\site-packages (from pdpipe) (2.3.0)\n",
      "Requirement already satisfied: pandas>=0.18.0 in c:\\users\\rasmusbo\\anaconda3\\lib\\site-packages (from pdpipe) (1.2.4)\n",
      "Requirement already satisfied: strct in c:\\users\\rasmusbo\\anaconda3\\lib\\site-packages (from pdpipe) (0.0.32)\n",
      "Requirement already satisfied: tqdm in c:\\users\\rasmusbo\\anaconda3\\lib\\site-packages (from pdpipe) (4.59.0)\n",
      "Requirement already satisfied: python-dateutil>=2.7.3 in c:\\users\\rasmusbo\\anaconda3\\lib\\site-packages (from pandas>=0.18.0->pdpipe) (2.8.1)\n",
      "Requirement already satisfied: pytz>=2017.3 in c:\\users\\rasmusbo\\anaconda3\\lib\\site-packages (from pandas>=0.18.0->pdpipe) (2021.1)\n",
      "Requirement already satisfied: numpy>=1.16.5 in c:\\users\\rasmusbo\\anaconda3\\lib\\site-packages (from pandas>=0.18.0->pdpipe) (1.20.1)\n",
      "Requirement already satisfied: six>=1.5 in c:\\users\\rasmusbo\\anaconda3\\lib\\site-packages (from python-dateutil>=2.7.3->pandas>=0.18.0->pdpipe) (1.15.0)\n",
      "Requirement already satisfied: decore in c:\\users\\rasmusbo\\anaconda3\\lib\\site-packages (from skutil>=0.0.15->pdpipe) (0.0.1)\n"
     ]
    }
   ],
   "source": [
    "!pip install pdpipe\n",
    "import numpy as np\n",
    "import pandas as pd\n",
    "import pdpipe as pdp\n",
    "import json"
   ]
  },
  {
   "cell_type": "code",
   "execution_count": 3,
   "outputs": [
    {
     "name": "stderr",
     "output_type": "stream",
     "text": [
      "<ipython-input-3-53b1c85f03af>:4: SettingWithCopyWarning: \n",
      "A value is trying to be set on a copy of a slice from a DataFrame\n",
      "\n",
      "See the caveats in the documentation: https://pandas.pydata.org/pandas-docs/stable/user_guide/indexing.html#returning-a-view-versus-a-copy\n",
      "  df.status[i]=df.details[i]['status']\n",
      "C:\\Users\\rasmusbo\\Anaconda3\\lib\\site-packages\\pandas\\core\\indexing.py:1637: SettingWithCopyWarning: \n",
      "A value is trying to be set on a copy of a slice from a DataFrame\n",
      "\n",
      "See the caveats in the documentation: https://pandas.pydata.org/pandas-docs/stable/user_guide/indexing.html#returning-a-view-versus-a-copy\n",
      "  self._setitem_single_block(indexer, value, name)\n",
      "<ipython-input-3-53b1c85f03af>:5: SettingWithCopyWarning: \n",
      "A value is trying to be set on a copy of a slice from a DataFrame\n",
      "\n",
      "See the caveats in the documentation: https://pandas.pydata.org/pandas-docs/stable/user_guide/indexing.html#returning-a-view-versus-a-copy\n",
      "  df.origin[i]=df.details[i]['origin']\n",
      "<ipython-input-3-53b1c85f03af>:6: SettingWithCopyWarning: \n",
      "A value is trying to be set on a copy of a slice from a DataFrame\n",
      "\n",
      "See the caveats in the documentation: https://pandas.pydata.org/pandas-docs/stable/user_guide/indexing.html#returning-a-view-versus-a-copy\n",
      "  df.year[i]=df.details[i]['year']\n"
     ]
    }
   ],
   "source": [
    "df=pd.read_json('kym.json', orient='records')\n",
    "df[['status','origin','year']]=np.nan\n",
    "for i in range(len(df.details)):\n",
    "    df.status[i]=df.details[i]['status']\n",
    "    df.origin[i]=df.details[i]['origin']\n",
    "    df.year[i]=df.details[i]['year']"
   ],
   "metadata": {
    "collapsed": false,
    "pycharm": {
     "name": "#%%\n"
    }
   }
  },
  {
   "cell_type": "code",
   "execution_count": 4,
   "outputs": [],
   "source": [
    "drop_columns=pdp.ColDrop(columns=[\"last_update_source\",\"category\",\"template_image_url\", \"ld\", \"additional_references\", \"search_keywords\", \"meta\",\"details\"])\n",
    "remove_duplicates=pdp.DropDuplicates([\"title\", \"url\"])\n",
    "drop_unconfirmed=pdp.ValKeep(values=[\"confirmed\"], columns=[\"status\"])\n",
    "pipeline_1=pdp.PdPipeline([drop_columns,remove_duplicates,drop_unconfirmed])\n",
    "df_2=pipeline_1(df)"
   ],
   "metadata": {
    "collapsed": false,
    "pycharm": {
     "name": "#%%\n"
    }
   }
  },
  {
   "cell_type": "code",
   "execution_count": 5,
   "outputs": [],
   "source": [
    "a=df_2.columns.values.tolist()\n",
    "b=df_2.values.tolist()\n",
    "b.insert(0,a)\n",
    "with open('cleaned_1.json', 'w', encoding='utf-8') as f:\n",
    "    json.dump(b, f, ensure_ascii=True)"
   ],
   "metadata": {
    "collapsed": false,
    "pycharm": {
     "name": "#%%\n"
    }
   }
  }
 ],
 "metadata": {
  "kernelspec": {
   "display_name": "Python 3",
   "language": "python",
   "name": "python3"
  },
  "language_info": {
   "codemirror_mode": {
    "name": "ipython",
    "version": 2
   },
   "file_extension": ".py",
   "mimetype": "text/x-python",
   "name": "python",
   "nbconvert_exporter": "python",
   "pygments_lexer": "ipython2",
   "version": "2.7.6"
  }
 },
 "nbformat": 4,
 "nbformat_minor": 0
}